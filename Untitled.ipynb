{
 "cells": [
  {
   "cell_type": "code",
   "execution_count": 1,
   "id": "b549630c",
   "metadata": {},
   "outputs": [],
   "source": [
    "import io\n",
    "from collections import Counter\n",
    "from pip._internal import main as pipmain\n",
    "import numpy as np\n",
    "import scipy.io\n",
    "import sklearn.model_selection\n",
    "import sklearn.tree\n",
    "from numpy import genfromtxt\n",
    "from scipy import stats\n",
    "from sklearn.base import BaseEstimator, ClassifierMixin"
   ]
  },
  {
   "cell_type": "code",
   "execution_count": 2,
   "id": "cc17f793",
   "metadata": {},
   "outputs": [],
   "source": [
    "path_train = './dataset/titanic/titanic_training.csv'\n",
    "data = genfromtxt(path_train, delimiter=',', dtype=None, encoding=None)"
   ]
  },
  {
   "cell_type": "code",
   "execution_count": 4,
   "id": "e34967d0",
   "metadata": {},
   "outputs": [
    {
     "data": {
      "text/plain": [
       "array([['pclass', 'sex', 'age', ..., 'cabin', 'embarked', 'survived'],\n",
       "       ['1.0', 'female', '40.0', ..., 'E34', 'C', '1'],\n",
       "       ['3.0', 'male', '33.0', ..., '', 'S', '0'],\n",
       "       ...,\n",
       "       ['3.0', 'male', '18.0', ..., '', 'S', '0'],\n",
       "       ['2.0', 'male', '31.0', ..., '', 'S', '1'],\n",
       "       ['3.0', 'female', '24.0', ..., 'G6', 'S', '1']], dtype='<U18')"
      ]
     },
     "execution_count": 4,
     "metadata": {},
     "output_type": "execute_result"
    }
   ],
   "source": [
    "data"
   ]
  },
  {
   "cell_type": "code",
   "execution_count": null,
   "id": "ace13fa0",
   "metadata": {},
   "outputs": [],
   "source": [
    "#Cleaning the 'sex' column \n",
    "data['sex'].fillna(value= 'male', inplace = True)\n",
    "#Changing it to 0 and 1s \n",
    "for i in range(len(data['sex'])):\n",
    "    if data['sex'][i] == 'male':\n",
    "        data.at[i, 'sex'] = 0\n",
    "    elif data['sex'][i] == 'female':\n",
    "        data.at[i, 'sex'] = 1\n",
    "\n",
    "#Fill in the null values in pclass \n",
    "data['pclass'].fillna(value = 2.0, inplace = True)\n",
    "data['sibsp'].fillna(value = 2.0, inplace = True)\n",
    "data['parch'].fillna(value = 2.0, inplace = True)\n",
    "data['ticket'].fillna(value = '0000', inplace = True)\n",
    "data['fare'].fillna(value = 100, inplace = True)\n",
    "data['embarked'].fillna(value = 'S', inplace = True)\n",
    "data['survived'].fillna(value = 0.0, inplace = True)\n",
    "\n",
    "# We will drop cabin,ticket and embarked as they are unique for each set.\n",
    "data = data.drop(columns = ['cabin', 'embarked', 'ticket'], axis = 0)\n",
    "\n",
    "#Age has more missing Nan values \n",
    "data['age'] = data['age'].groupby([data['pclass'], data['survived'],data['sex']]).apply(lambda x: x.fillna(x.mean()))\n",
    "data.info()"
   ]
  },
  {
   "cell_type": "code",
   "execution_count": null,
   "id": "1d7787a0",
   "metadata": {},
   "outputs": [],
   "source": []
  }
 ],
 "metadata": {
  "kernelspec": {
   "display_name": "Python 3 (ipykernel)",
   "language": "python",
   "name": "python3"
  },
  "language_info": {
   "codemirror_mode": {
    "name": "ipython",
    "version": 3
   },
   "file_extension": ".py",
   "mimetype": "text/x-python",
   "name": "python",
   "nbconvert_exporter": "python",
   "pygments_lexer": "ipython3",
   "version": "3.9.15"
  }
 },
 "nbformat": 4,
 "nbformat_minor": 5
}
