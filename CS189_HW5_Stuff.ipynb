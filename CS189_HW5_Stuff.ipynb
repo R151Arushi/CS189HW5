{
 "cells": [
  {
   "cell_type": "code",
   "execution_count": 1,
   "id": "9c8fb1d7",
   "metadata": {},
   "outputs": [],
   "source": [
    "from decision_tree_starter import *"
   ]
  },
  {
   "cell_type": "code",
   "execution_count": 2,
   "id": "25fc7051",
   "metadata": {},
   "outputs": [],
   "source": [
    "import io\n",
    "from collections import Counter\n",
    "from pip._internal import main as pipmain\n",
    "import numpy as np\n",
    "import scipy.io\n",
    "import sklearn.model_selection\n",
    "import sklearn.tree\n",
    "from numpy import genfromtxt\n",
    "from scipy import stats\n",
    "from sklearn.base import BaseEstimator, ClassifierMixin\n",
    "import pandas as pd"
   ]
  },
  {
   "cell_type": "code",
   "execution_count": 3,
   "id": "556ab051",
   "metadata": {
    "scrolled": true
   },
   "outputs": [
    {
     "name": "stdout",
     "output_type": "stream",
     "text": [
      "\n",
      "\n",
      "Part (b): preprocessing the titanic dataset\n"
     ]
    }
   ],
   "source": [
    "np.random.seed(102)\n",
    "dataset = \"titanic\"\n",
    "X, y, Z, features = deets(dataset)"
   ]
  },
  {
   "cell_type": "code",
   "execution_count": 4,
   "id": "66b2987a",
   "metadata": {},
   "outputs": [
    {
     "name": "stdout",
     "output_type": "stream",
     "text": [
      "Features: ['pclass', 'sex', 'age', 'sibsp', 'parch', 'fare', 'cabin', 'embarked', 'male', 'female', 'S', 'C', 'Q']\n",
      "Train/test size: (999, 13) (310, 13)\n",
      "\n",
      "\n",
      "Part 0: constant classifier\n",
      "Accuracy 0.6166166166166166\n",
      "\n",
      "\n",
      "Part (a-b): simplified decision tree\n",
      "Predictions [0. 0. 0. 1. 0. 0. 0. 1. 0. 1. 0. 0. 0. 1. 1. 0. 0. 0. 0. 0. 0. 0. 1. 0.\n",
      " 0. 1. 0. 0. 0. 1. 0. 0. 0. 1. 1. 0. 0. 0. 0. 1. 0. 0. 0. 0. 0. 1. 0. 0.\n",
      " 0. 1. 1. 0. 1. 1. 0. 1. 0. 1. 0. 1. 1. 0. 0. 0. 0. 1. 0. 0. 0. 0. 0. 0.\n",
      " 0. 0. 0. 0. 1. 0. 0. 0. 0. 0. 0. 0. 0. 0. 1. 0. 0. 0. 0. 0. 0. 0. 1. 0.\n",
      " 0. 0. 0. 0.]\n",
      "\n",
      "\n",
      "Part (c): sklearn's decision tree\n"
     ]
    },
    {
     "ename": "NameError",
     "evalue": "name 'params' is not defined",
     "output_type": "error",
     "traceback": [
      "\u001b[0;31m---------------------------------------------------------------------------\u001b[0m",
      "\u001b[0;31mNameError\u001b[0m                                 Traceback (most recent call last)",
      "Cell \u001b[0;32mIn[4], line 14\u001b[0m\n\u001b[1;32m     11\u001b[0m \u001b[38;5;28mprint\u001b[39m(\u001b[38;5;124m\"\u001b[39m\u001b[38;5;124mPredictions\u001b[39m\u001b[38;5;124m\"\u001b[39m, dt\u001b[38;5;241m.\u001b[39mpredict(Z)[:\u001b[38;5;241m100\u001b[39m])\n\u001b[1;32m     13\u001b[0m \u001b[38;5;28mprint\u001b[39m(\u001b[38;5;124m\"\u001b[39m\u001b[38;5;130;01m\\n\u001b[39;00m\u001b[38;5;130;01m\\n\u001b[39;00m\u001b[38;5;124mPart (c): sklearn\u001b[39m\u001b[38;5;124m'\u001b[39m\u001b[38;5;124ms decision tree\u001b[39m\u001b[38;5;124m\"\u001b[39m)\n\u001b[0;32m---> 14\u001b[0m clf \u001b[38;5;241m=\u001b[39m sklearn\u001b[38;5;241m.\u001b[39mtree\u001b[38;5;241m.\u001b[39mDecisionTreeClassifier(random_state\u001b[38;5;241m=\u001b[39m\u001b[38;5;241m0\u001b[39m, \u001b[38;5;241m*\u001b[39m\u001b[38;5;241m*\u001b[39m\u001b[43mparams\u001b[49m)\n\u001b[1;32m     15\u001b[0m clf\u001b[38;5;241m.\u001b[39mfit(X, y)\n\u001b[1;32m     16\u001b[0m evaluate(clf)\n",
      "\u001b[0;31mNameError\u001b[0m: name 'params' is not defined"
     ]
    }
   ],
   "source": [
    "print(\"Features:\", features)\n",
    "print(\"Train/test size:\", X.shape, Z.shape)\n",
    "\n",
    "print(\"\\n\\nPart 0: constant classifier\")\n",
    "print(\"Accuracy\", 1 - np.sum(y) / y.size)\n",
    "\n",
    "# Basic decision tree\n",
    "print(\"\\n\\nPart (a-b): simplified decision tree\")\n",
    "dt = DecisionTree(max_depth=3, feature_labels=features)\n",
    "dt.fit(X, y)\n",
    "print(\"Predictions\", dt.predict(Z)[:100])\n",
    "\n",
    "print(\"\\n\\nPart (c): sklearn's decision tree\")\n",
    "clf = sklearn.tree.DecisionTreeClassifier(random_state=0, **params)\n",
    "clf.fit(X, y)\n",
    "evaluate(clf)\n",
    "out = io.StringIO()\n",
    "\n",
    "# You may want to install \"gprof2dot\"\n",
    "sklearn.tree.export_graphviz(\n",
    "    clf, out_file=out, feature_names=features, class_names=class_names)\n",
    "graph = pydot.graph_from_dot_data(out.getvalue())\n",
    "pydot.graph_from_dot_data(out.getvalue())[0].write_pdf(\"%s-tree.pdf\" % dataset)\n",
    "\n",
    "# TODO: implement and evaluate!"
   ]
  },
  {
   "cell_type": "code",
   "execution_count": null,
   "id": "d49543bb",
   "metadata": {},
   "outputs": [],
   "source": []
  }
 ],
 "metadata": {
  "kernelspec": {
   "display_name": "Python 3 (ipykernel)",
   "language": "python",
   "name": "python3"
  },
  "language_info": {
   "codemirror_mode": {
    "name": "ipython",
    "version": 3
   },
   "file_extension": ".py",
   "mimetype": "text/x-python",
   "name": "python",
   "nbconvert_exporter": "python",
   "pygments_lexer": "ipython3",
   "version": "3.9.15"
  }
 },
 "nbformat": 4,
 "nbformat_minor": 5
}
